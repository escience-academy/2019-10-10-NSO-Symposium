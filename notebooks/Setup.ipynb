{
 "cells": [
  {
   "cell_type": "markdown",
   "metadata": {},
   "source": [
    "# Setup\n",
    "\n",
    "<div class=\"alert alert-block alert-warning\">\n",
    "To participate in this workshop, you will need access to the software described below. In addition, you will need an up-to-date web browser.\n",
    "</div>"
   ]
  },
  {
   "cell_type": "markdown",
   "metadata": {},
   "source": [
    "## Python\n",
    "\n",
    "[Python](https://python.org/) is a popular language for research computing, and great for general-purpose programming as well. Installing all of its research packages individually can be a bit difficult, so we recommend Anaconda, an all-in-one installer.\n",
    "\n",
    "Regardless of how you choose to install it, please make sure you install Python version 3.x (e.g., 3.6 is fine).\n",
    "\n",
    "We will teach Python using the [Jupyter notebook](https://jupyter.org/), a programming environment that runs in a web browser. For this to work you will need a reasonably up-to-date browser. The current versions of the Chrome, Safari and Firefox browsers are all [supported](https://jupyter-notebook.readthedocs.io/en/stable/notebook.html#browser-compatibility) (some older browsers, including Internet Explorer version 9 and below, are not).\n",
    "\n",
    "\n",
    "### Windows\n",
    "<details open>\n",
    "<summary>Instructions for Windows</summary>\n",
    "\n",
    "[Video Tutorial](https://www.youtube.com/watch?v=xxQ0mzZ8UvA)\n",
    "\n",
    "1. Open [https://www.anaconda.com/download/#windows](https://www.anaconda.com/download/#windows) with your web browser.\n",
    "\n",
    "2. Download the Python 3 installer for Windows.\n",
    "\n",
    "3. Install Python 3 using all of the defaults for installation except make sure to check Add Anaconda to my PATH environment variable.   \n",
    "\n",
    "</details>\n",
    "\n",
    "\n",
    "### MacOS\n",
    "<details open>\n",
    "<summary>Instructions for MacOS</summary>\n",
    "\n",
    "[Video Tutorial](https://www.youtube.com/watch?v=TcSAln46u9U)\n",
    "\n",
    "1. Open [https://www.anaconda.com/download/#macos](https://www.anaconda.com/download/#macos) with your web browser.\n",
    "\n",
    "2. Download the Python 3 installer for OS X.\n",
    "3. Install Python 3 using all of the defaults for installation. \n",
    "\n",
    "</details>\n",
    "\n",
    "\n",
    "### Linux\n",
    "<details open>\n",
    "<summary>Instructions for Linux</summary>\n",
    "\n",
    "1. Open https://www.anaconda.com/download/#linux with your web browser.\n",
    "\n",
    "2. Download the Python 3 installer for Linux.\n",
    "(The installation requires using the shell. If you aren't comfortable doing the installation yourself stop here and request help at the workshop.)\n",
    "\n",
    "3. Open a terminal window.\n",
    "\n",
    "4. Type\n",
    "\n",
    "```bash\n",
    "bash Anaconda3-\n",
    "```\n",
    "\n",
    "\n",
    "and then press <kbd>Tab</kbd>. The name of the file you just downloaded should appear. If it does not, navigate to the folder where you downloaded the file, for example with:\n",
    "\n",
    "```bash\n",
    "cd Downloads\n",
    "```\n",
    "\n",
    "\n",
    "Then, try again.\n",
    "\n",
    "5. Press <kbd>Return</kbd>. You will follow the text-only prompts. To move through the text, press <kbd>Spacebar</kbd>. Type **yes** and press enter to approve the license. Press enter to approve the default location for the files. Type **yes** and press enter to prepend Anaconda to your PATH (this makes the Anaconda distribution the default Python).\n",
    "\n",
    "6. Close the terminal window.\n",
    "\n",
    "</details>"
   ]
  },
  {
   "cell_type": "markdown",
   "metadata": {},
   "source": [
    "# Extra Python modules"
   ]
  },
  {
   "cell_type": "markdown",
   "metadata": {},
   "source": [
    "## Iris Installation"
   ]
  },
  {
   "cell_type": "code",
   "execution_count": null,
   "metadata": {},
   "outputs": [],
   "source": [
    "!conda install iris"
   ]
  },
  {
   "cell_type": "markdown",
   "metadata": {},
   "source": [
    "## Downloading data from KNMI climate explorer\n",
    "\n",
    "Go to `http://climexp.knmi.nl`, in the menu on the right, select \"Monthly reanalysis fields\". We'll download monthly temperature data from 1979 until today. Unfold the top-most pane and select a field, then click \"Select field\":\n",
    "\n",
    "![Select a field](images/select-field.png)\n",
    "\n",
    "In the next dialogue scroll all the way down, where there is a link to the NetCDF file:\n",
    "\n",
    "![Download NetCDF](images/download.png)"
   ]
  },
  {
   "cell_type": "markdown",
   "metadata": {},
   "source": [
    "We will use the following data sets:\n",
    "\n",
    "* Reanalysis data Era interim - now, 2-meter temperature:  http://climexp.knmi.nl/ERA-interim/erai_t2m.nc\n",
    "* 1981 - now, sea ice cover: http://climexp.knmi.nl/NCEPData/iceoi_v2.nc"
   ]
  },
  {
   "cell_type": "markdown",
   "metadata": {},
   "source": [
    "## Loading the data\n",
    "\n",
    "To see if your setup is working, try loading and plotting the data."
   ]
  },
  {
   "cell_type": "code",
   "execution_count": null,
   "metadata": {},
   "outputs": [],
   "source": [
    "erai_t2m = iris.load_cube('data/erai_t2m.nc')"
   ]
  },
  {
   "cell_type": "code",
   "execution_count": null,
   "metadata": {},
   "outputs": [],
   "source": [
    "erai_t2m"
   ]
  },
  {
   "cell_type": "markdown",
   "metadata": {},
   "source": [
    "## Plotting the data to test "
   ]
  },
  {
   "cell_type": "code",
   "execution_count": null,
   "metadata": {},
   "outputs": [],
   "source": [
    "import matplotlib\n",
    "import matplotlib.pyplot as plt\n",
    "import iris.plot as iplt\n",
    "import iris.quickplot as qplt\n",
    "\n",
    "matplotlib.rcParams['figure.figsize'] = (20.0, 10.0)"
   ]
  },
  {
   "cell_type": "code",
   "execution_count": null,
   "metadata": {},
   "outputs": [],
   "source": [
    "qplt.contourf(erai_t2m[0], 25)\n",
    "plt.gca().coastlines()\n",
    "plt.show()"
   ]
  }
 ],
 "metadata": {
  "kernelspec": {
   "display_name": "Python 3",
   "language": "python",
   "name": "python3"
  },
  "language_info": {
   "codemirror_mode": {
    "name": "ipython",
    "version": 3
   },
   "file_extension": ".py",
   "mimetype": "text/x-python",
   "name": "python",
   "nbconvert_exporter": "python",
   "pygments_lexer": "ipython3",
   "version": "3.7.4"
  }
 },
 "nbformat": 4,
 "nbformat_minor": 4
}
