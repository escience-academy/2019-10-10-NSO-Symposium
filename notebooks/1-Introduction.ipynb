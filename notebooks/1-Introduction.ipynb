{
 "cells": [
  {
   "cell_type": "markdown",
   "metadata": {
    "slideshow": {
     "slide_type": "slide"
    }
   },
   "source": [
    "# Python interpreter\n",
    "\n",
    "The standard interpreter of Python can be started by running ```python``` on terminal. Scripts can be developed interactively by. This helps developers to code faster and immediately see the errors. \n",
    "\n",
    "Hovewer, this interpreter has some limitations compared to other options (see [Ipython](#Ipython-interpreter)).\n",
    "\n",
    "<center>\n",
    "    \n",
    "![](images/python.png)\n",
    "\n",
    "</center>\n",
    "\n",
    "Python scripts can also be executed by running \n",
    "\n",
    "```\n",
    "python analysis_script.py\n",
    "```"
   ]
  },
  {
   "cell_type": "markdown",
   "metadata": {
    "slideshow": {
     "slide_type": "slide"
    }
   },
   "source": [
    "# Ipython interpreter\n",
    "\n",
    "Ipython is the improved version of the Python interpreter. It has the following extra features compared to the standard Python interpreter.\n",
    "\n",
    "- tab completation\n",
    "- explore your objects (type: object_name?)\n",
    "- has magic functions\n",
    "  - %timeit range(1000)\n",
    "- history\n",
    "- %pastebin 3 18-20 ~1/1-5\n",
    "\n",
    "<center>\n",
    "\n",
    "![Download NetCDF](images/ipython.png)\n",
    "\n",
    "</center>"
   ]
  },
  {
   "cell_type": "markdown",
   "metadata": {
    "slideshow": {
     "slide_type": "slide"
    }
   },
   "source": [
    "# Jupyter notebooks\n",
    "\n",
    "Jupyter notebooks have many advantages over Python and Ipython interpreters\n",
    "\n",
    "- In-browser editing for code, with automatic syntax highlighting, indentation, and tab completion/introspection.\n",
    "\n",
    "- The ability to execute code from the browser, with the results of computations attached to the code which generated them.\n",
    "\n",
    "- result of computation using as HTML, LaTeX, PNG, SVG, etc.\n",
    "\n",
    "- results and figures can be included inline.\n",
    "\n",
    "- markdown markup language support for documentation\n",
    "\n",
    "- include mathematical notation using LaTeX\n",
    "\n",
    "- easy to share results ( including computation results and generatedfigures)\n",
    "\n",
    "<center>\n",
    "\n",
    "![Download NetCDF](images/jupyter.png)\n",
    "\n",
    "</center>"
   ]
  },
  {
   "cell_type": "markdown",
   "metadata": {
    "slideshow": {
     "slide_type": "slide"
    }
   },
   "source": [
    "# Jupyterlab\n",
    "\n",
    "Jupyterlab is a web-based IDE which provides more complete environment for code development.\n",
    "\n",
    "\n",
    "- You can browse the files in your computer\n",
    "- Open multiple notebooks, terminals in sperate tabs\n",
    "- Install extensions using extension browser\n",
    "- Run, save, export notebooks\n",
    "\n",
    "<center>\n",
    "\n",
    "| ![Slides](images/jupyterlab_slide.png) | ![Extensions](images/jupyterlab_extensions.png) |\n",
    "\n",
    "</center>\n"
   ]
  }
 ],
 "metadata": {
  "kernelspec": {
   "display_name": "Python 3",
   "language": "python",
   "name": "python3"
  },
  "language_info": {
   "codemirror_mode": {
    "name": "ipython",
    "version": 3
   },
   "file_extension": ".py",
   "mimetype": "text/x-python",
   "name": "python",
   "nbconvert_exporter": "python",
   "pygments_lexer": "ipython3",
   "version": "3.7.4"
  }
 },
 "nbformat": 4,
 "nbformat_minor": 4
}
