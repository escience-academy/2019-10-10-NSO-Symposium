{
 "cells": [
  {
   "cell_type": "markdown",
   "metadata": {
    "slideshow": {
     "slide_type": "slide"
    }
   },
   "source": [
    "# Python interpreter\n",
    "\n",
    "The standard interpreter of Python can be started by running ```python``` on terminal. Scripts can be developed interactively by. This helps developers to code faster and immediately see the errors. \n",
    "\n",
    "Hovewer, this interpreter has some limitations compared to other options (see [Ipython](#Ipython-interpreter)).\n",
    "    \n",
    "![python](images/python.png)\n",
    "\n",
    "Python scripts can also be executed by running \n",
    "\n",
    "```\n",
    "python analysis_script.py\n",
    "```"
   ]
  },
  {
   "cell_type": "markdown",
   "metadata": {
    "slideshow": {
     "slide_type": "slide"
    }
   },
   "source": [
    "# Ipython interpreter\n",
    "\n",
    "Ipython is the improved version of the Python interpreter. It has the following extra features compared to the standard Python interpreter.\n",
    "\n",
    "- tab completation\n",
    "- explore your objects (type: object_name?)\n",
    "- has magic functions\n",
    "  - %timeit range(1000)\n",
    "- history\n",
    "- %pastebin 3 18-20 ~1/1-5\n",
    "\n",
    "![ipython](images/ipython.png)\n"
   ]
  },
  {
   "cell_type": "markdown",
   "metadata": {
    "slideshow": {
     "slide_type": "slide"
    }
   },
   "source": [
    "# Jupyter notebooks\n",
    "\n",
    "Jupyter notebooks have many advantages over Python and Ipython interpreters\n",
    "\n",
    "- In-browser editing for code, with automatic syntax highlighting, indentation, and tab completion/introspection.\n",
    "\n",
    "- The ability to execute code from the browser, with the results of computations attached to the code which generated them.\n",
    "\n",
    "- result of computation using as HTML, LaTeX, PNG, SVG, etc.\n",
    "\n",
    "- results and figures can be included inline.\n",
    "\n",
    "- markdown markup language support for documentation\n",
    "\n",
    "- include mathematical notation using LaTeX\n",
    "\n",
    "- easy to share results ( including computation results and generatedfigures)"
   ]
  },
  {
   "cell_type": "markdown",
   "metadata": {
    "slideshow": {
     "slide_type": "subslide"
    }
   },
   "source": [
    "# Jupyter notebooks\n",
    "\n",
    "![jupyter](images/jupyter.png)"
   ]
  },
  {
   "cell_type": "markdown",
   "metadata": {
    "slideshow": {
     "slide_type": "slide"
    }
   },
   "source": [
    "# Jupyterlab\n",
    "\n",
    "Jupyterlab is a web-based IDE which provides more complete environment for code development.\n",
    "\n",
    "\n",
    "- You can browse the files in your computer\n",
    "- Open multiple notebooks, terminals in sperate tabs\n",
    "- Install extensions using extension browser\n",
    "- Run, save, export notebooks\n"
   ]
  },
  {
   "cell_type": "markdown",
   "metadata": {
    "slideshow": {
     "slide_type": "subslide"
    }
   },
   "source": [
    "# Jupyterlab\n",
    "\n",
    "Metadata             |  Extensions\n",
    ":-------------------------:|:-------------------------:\n",
    "![Slides](images/jupyterlab_slide.png)  |  ![Extensions](images/jupyterlab_extensions.png)"
   ]
  },
  {
   "cell_type": "markdown",
   "metadata": {
    "slideshow": {
     "slide_type": "slide"
    }
   },
   "source": [
    "# Reading data\n",
    "\n",
    "Python has extensive support for various data formats. Most common scientific data formats can be used after installing relevant modules."
   ]
  },
  {
   "cell_type": "markdown",
   "metadata": {
    "slideshow": {
     "slide_type": "slide"
    }
   },
   "source": [
    "## Generic examples using pandas\n",
    "\n",
    "### Load pandas"
   ]
  },
  {
   "cell_type": "code",
   "execution_count": 1,
   "metadata": {
    "ExecuteTime": {
     "end_time": "2019-10-04T14:45:35.055371Z",
     "start_time": "2019-10-04T14:45:35.053353Z"
    },
    "slideshow": {
     "slide_type": "fragment"
    }
   },
   "outputs": [],
   "source": [
    "# Load the Pandas module with alias 'pd'\n",
    "import pandas as pd"
   ]
  },
  {
   "cell_type": "markdown",
   "metadata": {
    "slideshow": {
     "slide_type": "slide"
    }
   },
   "source": [
    "### Example - Reading CSV file\n",
    "\n",
    "```python\n",
    "# read data from 'data.csv'\n",
    "data = pd.read_csv(\"data.csv\")\n",
    "```"
   ]
  },
  {
   "cell_type": "markdown",
   "metadata": {
    "slideshow": {
     "slide_type": "slide"
    }
   },
   "source": [
    "### Reading other formats\n",
    "\n",
    "![pandas data](images/pandas_io.png)"
   ]
  },
  {
   "cell_type": "markdown",
   "metadata": {
    "slideshow": {
     "slide_type": "slide"
    }
   },
   "source": [
    "## Reading NetCDF files for this workshop\n",
    "\n",
    "NetCDF (Network Common Data Form) is a set of software libraries and self-describing, machine-independent data formats that support the creation, access, and sharing of array-oriented scientific data.\n",
    "\n",
    "NetCDF is a popular data format in **climate research**.\n",
    "\n",
    "For more info:\n",
    "\n",
    "[https://en.wikipedia.org/wiki/NetCDF](https://en.wikipedia.org/wiki/NetCDF)\n",
    "\n",
    "[https://climatedataguide.ucar.edu/climate-data-tools-and-analysis/netcdf-overview](https://climatedataguide.ucar.edu/climate-data-tools-and-analysis/netcdf-overview)"
   ]
  },
  {
   "cell_type": "markdown",
   "metadata": {
    "slideshow": {
     "slide_type": "subslide"
    }
   },
   "source": [
    "## Import modules to read NetCDF\n",
    "\n",
    "Note: Scipy module also has NetCDF support but it only supports NetCDF version 3. We will use **netCDF4** module to load NetCDF version 4."
   ]
  },
  {
   "cell_type": "code",
   "execution_count": 2,
   "metadata": {
    "ExecuteTime": {
     "end_time": "2019-10-04T14:45:36.004193Z",
     "start_time": "2019-10-04T14:45:35.997127Z"
    },
    "slideshow": {
     "slide_type": "subslide"
    }
   },
   "outputs": [],
   "source": [
    "import netCDF4\n",
    "from netCDF4 import num2date, date2num, date2index # to manuplate time data\n",
    "import numpy as np\n",
    "from datetime import datetime, timedelta"
   ]
  },
  {
   "cell_type": "markdown",
   "metadata": {
    "slideshow": {
     "slide_type": "slide"
    }
   },
   "source": [
    "We will use the following data sets:\n",
    "\n",
    "* Reanalysis data Era interim - now, 2-meter temperature:  http://climexp.knmi.nl/ERA-interim/erai_t2m.nc\n",
    "* 1981 - now, sea ice cover: http://climexp.knmi.nl/NCEPData/iceoi_v2.nc"
   ]
  },
  {
   "cell_type": "markdown",
   "metadata": {},
   "source": [
    "## Reanalysis data"
   ]
  },
  {
   "cell_type": "code",
   "execution_count": 3,
   "metadata": {
    "ExecuteTime": {
     "end_time": "2019-10-04T14:45:36.467409Z",
     "start_time": "2019-10-04T14:45:36.464687Z"
    },
    "slideshow": {
     "slide_type": "slide"
    }
   },
   "outputs": [],
   "source": [
    "# open a NetCDF Dataset object:\n",
    "f1 = netCDF4.Dataset('data/erai_t2m.nc')"
   ]
  },
  {
   "cell_type": "code",
   "execution_count": 4,
   "metadata": {
    "ExecuteTime": {
     "end_time": "2019-10-04T14:45:36.636612Z",
     "start_time": "2019-10-04T14:45:36.633429Z"
    }
   },
   "outputs": [
    {
     "name": "stdout",
     "output_type": "stream",
     "text": [
      "odict_keys(['lon', 'lat', 'time', 't2m'])\n"
     ]
    }
   ],
   "source": [
    "print(f1.variables.keys()) # get all variable names"
   ]
  },
  {
   "cell_type": "code",
   "execution_count": 5,
   "metadata": {
    "ExecuteTime": {
     "end_time": "2019-10-04T14:45:36.805207Z",
     "start_time": "2019-10-04T14:45:36.800125Z"
    },
    "slideshow": {
     "slide_type": "slide"
    }
   },
   "outputs": [
    {
     "name": "stdout",
     "output_type": "stream",
     "text": [
      "<class 'netCDF4._netCDF4.Variable'>\n",
      "float64 time(time)\n",
      "    standard_name: time\n",
      "    units: months since 1979-01-15 00:00:00\n",
      "    calendar: proleptic_gregorian\n",
      "unlimited dimensions: time\n",
      "current shape = (484,)\n",
      "filling on, default _FillValue of 9.969209968386869e+36 used\n",
      "\n"
     ]
    }
   ],
   "source": [
    "time = f1.variables['time'] # time variable\n",
    "print(time) "
   ]
  },
  {
   "cell_type": "markdown",
   "metadata": {},
   "source": [
    "## Sea Ice data"
   ]
  },
  {
   "cell_type": "code",
   "execution_count": 6,
   "metadata": {
    "ExecuteTime": {
     "end_time": "2019-10-04T14:45:37.128211Z",
     "start_time": "2019-10-04T14:45:37.125350Z"
    }
   },
   "outputs": [],
   "source": [
    "# open a NetCDF Dataset object:\n",
    "f2 = netCDF4.Dataset('data/iceoi_v2.nc')"
   ]
  },
  {
   "cell_type": "code",
   "execution_count": 7,
   "metadata": {
    "ExecuteTime": {
     "end_time": "2019-10-04T14:45:37.313438Z",
     "start_time": "2019-10-04T14:45:37.308518Z"
    }
   },
   "outputs": [
    {
     "name": "stdout",
     "output_type": "stream",
     "text": [
      "odict_keys(['time', 'lon', 'lat', 'ice'])\n"
     ]
    }
   ],
   "source": [
    "print(f2.variables.keys()) # get all variable names"
   ]
  },
  {
   "cell_type": "code",
   "execution_count": 8,
   "metadata": {
    "ExecuteTime": {
     "end_time": "2019-10-04T14:45:37.525943Z",
     "start_time": "2019-10-04T14:45:37.517450Z"
    },
    "slideshow": {
     "slide_type": "slide"
    }
   },
   "outputs": [
    {
     "name": "stdout",
     "output_type": "stream",
     "text": [
      "<class 'netCDF4._netCDF4.Variable'>\n",
      "float32 ice(time, lat, lon)\n",
      "    long_name: Reynolds OI ice cover\n",
      "    units: 1\n",
      "    _FillValue: 3e+33\n",
      "unlimited dimensions: \n",
      "current shape = (454, 180, 360)\n",
      "filling on\n"
     ]
    }
   ],
   "source": [
    "ice = f2.variables['ice'] # time variable\n",
    "print(ice) "
   ]
  },
  {
   "cell_type": "markdown",
   "metadata": {},
   "source": [
    "## Formatting time"
   ]
  },
  {
   "cell_type": "code",
   "execution_count": 9,
   "metadata": {
    "ExecuteTime": {
     "end_time": "2019-10-04T14:45:37.909650Z",
     "start_time": "2019-10-04T14:45:37.892226Z"
    },
    "slideshow": {
     "slide_type": "slide"
    }
   },
   "outputs": [
    {
     "name": "stdout",
     "output_type": "stream",
     "text": [
      "time shape = 454\n",
      "time units = months since 1981-11-01\n",
      "time calendar = gregorian\n",
      "8.0\n",
      "15.0\n",
      "['1981-11-01 00:00:00', '1981-12-01 10:30:00', '1981-12-31 21:00:00', '1982-01-31 07:30:00', '1982-03-02 18:00:00', '1982-04-02 04:30:00', '1982-05-02 15:00:00', '1982-06-02 01:30:00', '1982-07-02 12:00:00', '1982-08-01 22:30:00']\n",
      "ice dimensions = ('time', 'lat', 'lon'), ice shape = (454, 180, 360)\n"
     ]
    }
   ],
   "source": [
    "time = f2.variables['time']\n",
    "print('time shape = %s' % time.shape)\n",
    "print('time units = %s' % time.units)\n",
    "print('time calendar = %s' % time.calendar)\n",
    "print(time[8])\n",
    "print(time[15])\n",
    "\n",
    "# convert time variable to date\n",
    "dates = [datetime(1981,11,1) + n * timedelta(seconds = 365.25/12*24.0*3600.0) for n in range(time.shape[0])]\n",
    "print([date.strftime('%Y-%m-%d %H:%M:%S') for date in dates[:10]]) # print only first ten elements\n",
    "\n",
    "\n",
    "ice = f2.variables['ice']\n",
    "print('ice dimensions = %s, ice shape = %s' % (ice.dimensions, ice.shape))"
   ]
  },
  {
   "cell_type": "markdown",
   "metadata": {
    "slideshow": {
     "slide_type": "slide"
    }
   },
   "source": [
    "# Next notebook: \n",
    "## - reading NetCDF data using Iris\n",
    "## - data visualization"
   ]
  },
  {
   "cell_type": "code",
   "execution_count": null,
   "metadata": {},
   "outputs": [],
   "source": []
  }
 ],
 "metadata": {
  "kernelspec": {
   "display_name": "Python 3",
   "language": "python",
   "name": "python3"
  },
  "language_info": {
   "codemirror_mode": {
    "name": "ipython",
    "version": 3
   },
   "file_extension": ".py",
   "mimetype": "text/x-python",
   "name": "python",
   "nbconvert_exporter": "python",
   "pygments_lexer": "ipython3",
   "version": "3.7.4"
  },
  "toc": {
   "base_numbering": 1,
   "nav_menu": {},
   "number_sections": true,
   "sideBar": true,
   "skip_h1_title": false,
   "title_cell": "Table of Contents",
   "title_sidebar": "Contents",
   "toc_cell": false,
   "toc_position": {},
   "toc_section_display": true,
   "toc_window_display": false
  },
  "varInspector": {
   "cols": {
    "lenName": 16,
    "lenType": 16,
    "lenVar": 40
   },
   "kernels_config": {
    "python": {
     "delete_cmd_postfix": "",
     "delete_cmd_prefix": "del ",
     "library": "var_list.py",
     "varRefreshCmd": "print(var_dic_list())"
    },
    "r": {
     "delete_cmd_postfix": ") ",
     "delete_cmd_prefix": "rm(",
     "library": "var_list.r",
     "varRefreshCmd": "cat(var_dic_list()) "
    }
   },
   "types_to_exclude": [
    "module",
    "function",
    "builtin_function_or_method",
    "instance",
    "_Feature"
   ],
   "window_display": false
  }
 },
 "nbformat": 4,
 "nbformat_minor": 4
}
