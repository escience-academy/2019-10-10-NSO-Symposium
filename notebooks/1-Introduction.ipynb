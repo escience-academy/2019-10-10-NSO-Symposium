{
 "cells": [
  {
   "cell_type": "markdown",
   "metadata": {
    "slideshow": {
     "slide_type": "slide"
    }
   },
   "source": [
    "# Python interpreter\n",
    "\n",
    "The standard interpreter of Python can be started by running ```python``` on terminal. Scripts can be developed interactively by. This helps developers to code faster and immediately see the errors. \n",
    "\n",
    "Hovewer, this interpreter has some limitations compared to other options (see [Ipython](#Ipython-interpreter)).\n",
    "\n",
    "<center>\n",
    "    \n",
    "![](images/python.png)\n",
    "\n",
    "</center>\n",
    "\n",
    "Python scripts can also be executed by running \n",
    "\n",
    "```\n",
    "python analysis_script.py\n",
    "```"
   ]
  },
  {
   "cell_type": "markdown",
   "metadata": {
    "slideshow": {
     "slide_type": "slide"
    }
   },
   "source": [
    "# Ipython interpreter\n",
    "\n",
    "Ipython is the improved version of the Python interpreter. It has the following extra features compared to the standard Python interpreter.\n",
    "\n",
    "- tab completation\n",
    "- explore your objects (type: object_name?)\n",
    "- has magic functions\n",
    "  - %timeit range(1000)\n",
    "- history\n",
    "- %pastebin 3 18-20 ~1/1-5\n",
    "\n",
    "<center>\n",
    "\n",
    "![Download NetCDF](images/ipython.png)\n",
    "\n",
    "</center>"
   ]
  },
  {
   "cell_type": "markdown",
   "metadata": {
    "slideshow": {
     "slide_type": "slide"
    }
   },
   "source": [
    "# Jupyter notebooks\n",
    "\n",
    "Jupyter notebooks have many advantages over Python and Ipython interpreters\n",
    "\n",
    "- In-browser editing for code, with automatic syntax highlighting, indentation, and tab completion/introspection.\n",
    "\n",
    "- The ability to execute code from the browser, with the results of computations attached to the code which generated them.\n",
    "\n",
    "- result of computation using as HTML, LaTeX, PNG, SVG, etc.\n",
    "\n",
    "- results and figures can be included inline.\n",
    "\n",
    "- markdown markup language support for documentation\n",
    "\n",
    "- include mathematical notation using LaTeX\n",
    "\n",
    "- easy to share results ( including computation results and generatedfigures)\n",
    "\n",
    "<center>\n",
    "\n",
    "![Download NetCDF](images/jupyter.png)\n",
    "\n",
    "</center>"
   ]
  },
  {
   "cell_type": "markdown",
   "metadata": {
    "slideshow": {
     "slide_type": "slide"
    }
   },
   "source": [
    "# Jupyterlab\n",
    "\n",
    "Jupyterlab is a web-based IDE which provides more complete environment for code development.\n",
    "\n",
    "\n",
    "- You can browse the files in your computer\n",
    "- Open multiple notebooks, terminals in sperate tabs\n",
    "- Install extensions using extension browser\n",
    "- Run, save, export notebooks\n",
    "\n",
    "<center>\n",
    "\n",
    "| ![Slides](images/jupyterlab_slide.png) | ![Extensions](images/jupyterlab_extensions.png) |\n",
    "\n",
    "</center>\n"
   ]
  },
  {
   "cell_type": "markdown",
   "metadata": {},
   "source": [
    "# Reading data\n",
    "\n",
    "Python has extensive support for various data formats. Most common scientific data formats can be used after installing relevant modules."
   ]
  },
  {
   "cell_type": "markdown",
   "metadata": {},
   "source": [
    "## Generic examples using pandas"
   ]
  },
  {
   "cell_type": "markdown",
   "metadata": {},
   "source": [
    "### Load pandas"
   ]
  },
  {
   "cell_type": "code",
   "execution_count": 1,
   "metadata": {},
   "outputs": [],
   "source": [
    "# Load the Pandas module with alias 'pd'\n",
    "import pandas as pd"
   ]
  },
  {
   "cell_type": "markdown",
   "metadata": {},
   "source": [
    "### Example - Reading CSV file"
   ]
  },
  {
   "cell_type": "markdown",
   "metadata": {},
   "source": [
    "```python\n",
    "# read data from 'data.csv'\n",
    "data = pd.read_csv(\"data.csv\")\n",
    "```"
   ]
  },
  {
   "cell_type": "markdown",
   "metadata": {},
   "source": [
    "### Reading other formats\n",
    "\n",
    "<center>\n",
    "\n",
    "| ![pandas](images/pandas_io.png) |\n",
    "\n",
    "</center>"
   ]
  },
  {
   "cell_type": "markdown",
   "metadata": {},
   "source": [
    "## Reading NetCDF files for this workshop\n",
    "\n",
    "NetCDF (Network Common Data Form) is a set of software libraries and self-describing, machine-independent data formats that support the creation, access, and sharing of array-oriented scientific data.\n",
    "\n",
    "NetCDF is a popular data format in **climate research**.\n",
    "\n",
    "For more info:\n",
    "\n",
    "[https://en.wikipedia.org/wiki/NetCDF](https://en.wikipedia.org/wiki/NetCDF)\n",
    "\n",
    "[https://climatedataguide.ucar.edu/climate-data-tools-and-analysis/netcdf-overview](https://climatedataguide.ucar.edu/climate-data-tools-and-analysis/netcdf-overview)"
   ]
  },
  {
   "cell_type": "markdown",
   "metadata": {},
   "source": [
    "## Import modules to read NetCDF\n",
    "\n",
    "Note: Scipy module also has NetCDF support but it only supports NetCDF version 3. We will use **netCDF4** module to load NetCDF version 4."
   ]
  },
  {
   "cell_type": "code",
   "execution_count": 2,
   "metadata": {},
   "outputs": [],
   "source": [
    "import netCDF4\n",
    "from netCDF4 import num2date, date2num, date2index # to manuplate time data\n",
    "import numpy as np\n",
    "from datetime import datetime, timedelta"
   ]
  },
  {
   "cell_type": "markdown",
   "metadata": {},
   "source": [
    "We will use the following data sets:\n",
    "\n",
    "* Reanalysis data Era interim - now, 2-meter temperature:  http://climexp.knmi.nl/ERA-interim/erai_t2m.nc\n",
    "* 1981 - now, sea ice cover: http://climexp.knmi.nl/NCEPData/iceoi_v2.nc"
   ]
  },
  {
   "cell_type": "markdown",
   "metadata": {},
   "source": [
    "## Reanalysis data"
   ]
  },
  {
   "cell_type": "code",
   "execution_count": 3,
   "metadata": {},
   "outputs": [],
   "source": [
    "# open a NetCDF Dataset object:\n",
    "f1 = netCDF4.Dataset('data/erai_t2m.nc')"
   ]
  },
  {
   "cell_type": "code",
   "execution_count": 4,
   "metadata": {},
   "outputs": [
    {
     "name": "stdout",
     "output_type": "stream",
     "text": [
      "dict_keys(['lon', 'lat', 'time', 't2m'])\n"
     ]
    }
   ],
   "source": [
    "print(f1.variables.keys()) # get all variable names"
   ]
  },
  {
   "cell_type": "code",
   "execution_count": 5,
   "metadata": {},
   "outputs": [
    {
     "name": "stdout",
     "output_type": "stream",
     "text": [
      "<class 'netCDF4._netCDF4.Variable'>\n",
      "float64 time(time)\n",
      "    standard_name: time\n",
      "    units: months since 1979-01-15 00:00:00\n",
      "    calendar: proleptic_gregorian\n",
      "unlimited dimensions: time\n",
      "current shape = (484,)\n",
      "filling on, default _FillValue of 9.969209968386869e+36 used\n"
     ]
    }
   ],
   "source": [
    "time = f1.variables['time'] # time variable\n",
    "print(time) "
   ]
  },
  {
   "cell_type": "markdown",
   "metadata": {},
   "source": [
    "## Sea Ice data"
   ]
  },
  {
   "cell_type": "code",
   "execution_count": 6,
   "metadata": {},
   "outputs": [],
   "source": [
    "# open a NetCDF Dataset object:\n",
    "f2 = netCDF4.Dataset('data/iceoi_v2.nc')"
   ]
  },
  {
   "cell_type": "code",
   "execution_count": 7,
   "metadata": {},
   "outputs": [
    {
     "name": "stdout",
     "output_type": "stream",
     "text": [
      "dict_keys(['time', 'lon', 'lat', 'ice'])\n"
     ]
    }
   ],
   "source": [
    "print(f2.variables.keys()) # get all variable names"
   ]
  },
  {
   "cell_type": "code",
   "execution_count": 8,
   "metadata": {},
   "outputs": [
    {
     "name": "stdout",
     "output_type": "stream",
     "text": [
      "<class 'netCDF4._netCDF4.Variable'>\n",
      "float32 ice(time, lat, lon)\n",
      "    long_name: Reynolds OI ice cover\n",
      "    units: 1\n",
      "    _FillValue: 3e+33\n",
      "unlimited dimensions: \n",
      "current shape = (454, 180, 360)\n",
      "filling on\n"
     ]
    }
   ],
   "source": [
    "ice = f2.variables['ice'] # time variable\n",
    "print(ice) "
   ]
  },
  {
   "cell_type": "markdown",
   "metadata": {},
   "source": [
    "## Formatting time"
   ]
  },
  {
   "cell_type": "code",
   "execution_count": 9,
   "metadata": {},
   "outputs": [
    {
     "name": "stdout",
     "output_type": "stream",
     "text": [
      "time shape = 454\n",
      "time units = months since 1981-11-01\n",
      "time calendar = gregorian\n",
      "8.0\n",
      "15.0\n",
      "['1981-11-01 00:00:00', '1981-12-01 10:30:00', '1981-12-31 21:00:00', '1982-01-31 07:30:00', '1982-03-02 18:00:00', '1982-04-02 04:30:00', '1982-05-02 15:00:00', '1982-06-02 01:30:00', '1982-07-02 12:00:00', '1982-08-01 22:30:00']\n",
      "ice dimensions = ('time', 'lat', 'lon'), ice shape = (454, 180, 360)\n"
     ]
    }
   ],
   "source": [
    "time = f2.variables['time']\n",
    "print('time shape = %s' % time.shape)\n",
    "print('time units = %s' % time.units)\n",
    "print('time calendar = %s' % time.calendar)\n",
    "print(time[8])\n",
    "print(time[15])\n",
    "\n",
    "# convert time variable to date\n",
    "dates = [datetime(1981,11,1) + n * timedelta(seconds = 365.25/12*24.0*3600.0) for n in range(time.shape[0])]\n",
    "print([date.strftime('%Y-%m-%d %H:%M:%S') for date in dates[:10]]) # print only first ten elements\n",
    "\n",
    "\n",
    "ice = f2.variables['ice']\n",
    "print('ice dimensions = %s, ice shape = %s' % (ice.dimensions, ice.shape))"
   ]
  },
  {
   "cell_type": "markdown",
   "metadata": {},
   "source": [
    "# Next notebook: \n",
    "## - reading NetCDF data using Iris\n",
    "## - data visualization"
   ]
  },
  {
   "cell_type": "code",
   "execution_count": null,
   "metadata": {},
   "outputs": [],
   "source": []
  }
 ],
 "metadata": {
  "kernelspec": {
   "display_name": "Python 3",
   "language": "python",
   "name": "python3"
  },
  "language_info": {
   "codemirror_mode": {
    "name": "ipython",
    "version": 3
   },
   "file_extension": ".py",
   "mimetype": "text/x-python",
   "name": "python",
   "nbconvert_exporter": "python",
   "pygments_lexer": "ipython3",
   "version": "3.7.4"
  }
 },
 "nbformat": 4,
 "nbformat_minor": 4
}
